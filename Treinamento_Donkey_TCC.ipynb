{
  "cells": [
    {
      "cell_type": "markdown",
      "metadata": {
        "id": "yshHRqDpLb5W"
      },
      "source": [
        "# Treinamento de Modelos com a Biblioteca Donkey Car utilizando o Google Colab\n",
        "O Colab é uma ótima opção por dispor de GPU potente à disposição gratuitamente."
      ]
    },
    {
      "cell_type": "markdown",
      "metadata": {
        "id": "arsH-DhLcihq"
      },
      "source": [
        "## Checar alocação da GPU para o ambiente"
      ]
    },
    {
      "cell_type": "code",
      "execution_count": null,
      "metadata": {
        "colab": {
          "base_uri": "https://localhost:8080/"
        },
        "id": "uQgEhuoTcg0N",
        "outputId": "33e84ef0-bdbd-46f2-a83d-d1ae4408e417"
      },
      "outputs": [
        {
          "name": "stdout",
          "output_type": "stream",
          "text": [
            "2.14.0\n"
          ]
        }
      ],
      "source": [
        "import tensorflow\n",
        "print(tensorflow.__version__)"
      ]
    },
    {
      "cell_type": "markdown",
      "metadata": {
        "id": "Ba2oPDIrsDFg"
      },
      "source": [
        "## Clonar o repositório Git da DonkeyCar\n"
      ]
    },
    {
      "cell_type": "code",
      "execution_count": null,
      "metadata": {
        "colab": {
          "base_uri": "https://localhost:8080/"
        },
        "id": "oOxd9PFUyNxI",
        "outputId": "50c20d32-636a-4915-a770-0cd7fb030996"
      },
      "outputs": [
        {
          "name": "stdout",
          "output_type": "stream",
          "text": [
            "Cloning into 'donkeycar'...\n",
            "remote: Enumerating objects: 16249, done.\u001b[K\n",
            "remote: Counting objects: 100% (40/40), done.\u001b[K\n",
            "remote: Compressing objects: 100% (33/33), done.\u001b[K\n",
            "remote: Total 16249 (delta 19), reused 21 (delta 7), pack-reused 16209\u001b[K\n",
            "Receiving objects: 100% (16249/16249), 90.03 MiB | 33.60 MiB/s, done.\n",
            "Resolving deltas: 100% (10795/10795), done.\n",
            "/content/donkeycar\n",
            "Already on 'main'\n",
            "Your branch is up to date with 'origin/main'.\n"
          ]
        }
      ],
      "source": [
        "!git clone https://github.com/autorope/donkeycar\n",
        "%cd donkeycar\n",
        "!git checkout main"
      ]
    },
    {
      "cell_type": "markdown",
      "metadata": {
        "id": "9TkkcF-gsAnx"
      },
      "source": [
        "## Instalar donkey car"
      ]
    },
    {
      "cell_type": "code",
      "execution_count": null,
      "metadata": {
        "colab": {
          "base_uri": "https://localhost:8080/"
        },
        "id": "jz_PZgrByPDh",
        "outputId": "458d6912-118a-4333-8296-9c3d3d37114c"
      },
      "outputs": [
        {
          "name": "stdout",
          "output_type": "stream",
          "text": [
            "Obtaining file:///content/donkeycar\n",
            "  Preparing metadata (setup.py) ... \u001b[?25l\u001b[?25hdone\n",
            "Requirement already satisfied: numpy in /usr/local/lib/python3.10/dist-packages (from donkeycar==5.0.dev3) (1.23.5)\n",
            "Requirement already satisfied: pillow in /usr/local/lib/python3.10/dist-packages (from donkeycar==5.0.dev3) (9.4.0)\n",
            "Collecting docopt (from donkeycar==5.0.dev3)\n",
            "  Downloading docopt-0.6.2.tar.gz (25 kB)\n",
            "  Preparing metadata (setup.py) ... \u001b[?25l\u001b[?25hdone\n",
            "Requirement already satisfied: tornado in /usr/local/lib/python3.10/dist-packages (from donkeycar==5.0.dev3) (6.3.2)\n",
            "Requirement already satisfied: requests in /usr/local/lib/python3.10/dist-packages (from donkeycar==5.0.dev3) (2.31.0)\n",
            "Requirement already satisfied: h5py in /usr/local/lib/python3.10/dist-packages (from donkeycar==5.0.dev3) (3.9.0)\n",
            "Requirement already satisfied: PrettyTable in /usr/local/lib/python3.10/dist-packages (from donkeycar==5.0.dev3) (3.9.0)\n",
            "Collecting paho-mqtt (from donkeycar==5.0.dev3)\n",
            "  Downloading paho-mqtt-1.6.1.tar.gz (99 kB)\n",
            "\u001b[2K     \u001b[90m━━━━━━━━━━━━━━━━━━━━━━━━━━━━━━━━━━━━━━━━\u001b[0m \u001b[32m99.4/99.4 kB\u001b[0m \u001b[31m5.4 MB/s\u001b[0m eta \u001b[36m0:00:00\u001b[0m\n",
            "\u001b[?25h  Preparing metadata (setup.py) ... \u001b[?25l\u001b[?25hdone\n",
            "Collecting simple_pid (from donkeycar==5.0.dev3)\n",
            "  Downloading simple_pid-2.0.0-py3-none-any.whl (7.2 kB)\n",
            "Collecting progress (from donkeycar==5.0.dev3)\n",
            "  Downloading progress-1.6.tar.gz (7.8 kB)\n",
            "  Preparing metadata (setup.py) ... \u001b[?25l\u001b[?25hdone\n",
            "Requirement already satisfied: typing_extensions in /usr/local/lib/python3.10/dist-packages (from donkeycar==5.0.dev3) (4.5.0)\n",
            "Collecting pyfiglet (from donkeycar==5.0.dev3)\n",
            "  Downloading pyfiglet-1.0.2-py3-none-any.whl (1.1 MB)\n",
            "\u001b[2K     \u001b[90m━━━━━━━━━━━━━━━━━━━━━━━━━━━━━━━━━━━━━━━━\u001b[0m \u001b[32m1.1/1.1 MB\u001b[0m \u001b[31m34.4 MB/s\u001b[0m eta \u001b[36m0:00:00\u001b[0m\n",
            "\u001b[?25hRequirement already satisfied: psutil in /usr/local/lib/python3.10/dist-packages (from donkeycar==5.0.dev3) (5.9.5)\n",
            "Collecting pynmea2 (from donkeycar==5.0.dev3)\n",
            "  Downloading pynmea2-1.19.0-py3-none-any.whl (30 kB)\n",
            "Collecting pyserial (from donkeycar==5.0.dev3)\n",
            "  Downloading pyserial-3.5-py2.py3-none-any.whl (90 kB)\n",
            "\u001b[2K     \u001b[90m━━━━━━━━━━━━━━━━━━━━━━━━━━━━━━━━━━━━━━━━\u001b[0m \u001b[32m90.6/90.6 kB\u001b[0m \u001b[31m12.2 MB/s\u001b[0m eta \u001b[36m0:00:00\u001b[0m\n",
            "\u001b[?25hCollecting utm (from donkeycar==5.0.dev3)\n",
            "  Downloading utm-0.7.0.tar.gz (8.7 kB)\n",
            "  Preparing metadata (setup.py) ... \u001b[?25l\u001b[?25hdone\n",
            "Requirement already satisfied: pandas in /usr/local/lib/python3.10/dist-packages (from donkeycar==5.0.dev3) (1.5.3)\n",
            "Requirement already satisfied: pyyaml in /usr/local/lib/python3.10/dist-packages (from donkeycar==5.0.dev3) (6.0.1)\n",
            "Requirement already satisfied: matplotlib in /usr/local/lib/python3.10/dist-packages (from donkeycar==5.0.dev3) (3.7.1)\n",
            "Collecting kivy (from donkeycar==5.0.dev3)\n",
            "  Downloading Kivy-2.2.1-cp310-cp310-manylinux_2_17_x86_64.manylinux2014_x86_64.whl (18.9 MB)\n",
            "\u001b[2K     \u001b[90m━━━━━━━━━━━━━━━━━━━━━━━━━━━━━━━━━━━━━━━━\u001b[0m \u001b[32m18.9/18.9 MB\u001b[0m \u001b[31m71.6 MB/s\u001b[0m eta \u001b[36m0:00:00\u001b[0m\n",
            "\u001b[?25hRequirement already satisfied: plotly in /usr/local/lib/python3.10/dist-packages (from donkeycar==5.0.dev3) (5.15.0)\n",
            "Requirement already satisfied: albumentations in /usr/local/lib/python3.10/dist-packages (from donkeycar==5.0.dev3) (1.3.1)\n",
            "Requirement already satisfied: scipy>=1.1.0 in /usr/local/lib/python3.10/dist-packages (from albumentations->donkeycar==5.0.dev3) (1.11.3)\n",
            "Requirement already satisfied: scikit-image>=0.16.1 in /usr/local/lib/python3.10/dist-packages (from albumentations->donkeycar==5.0.dev3) (0.19.3)\n",
            "Requirement already satisfied: qudida>=0.0.4 in /usr/local/lib/python3.10/dist-packages (from albumentations->donkeycar==5.0.dev3) (0.0.4)\n",
            "Requirement already satisfied: opencv-python-headless>=4.1.1 in /usr/local/lib/python3.10/dist-packages (from albumentations->donkeycar==5.0.dev3) (4.8.1.78)\n",
            "Collecting Kivy-Garden>=0.1.4 (from kivy->donkeycar==5.0.dev3)\n",
            "  Downloading Kivy_Garden-0.1.5-py3-none-any.whl (4.6 kB)\n",
            "Requirement already satisfied: docutils in /usr/local/lib/python3.10/dist-packages (from kivy->donkeycar==5.0.dev3) (0.18.1)\n",
            "Requirement already satisfied: pygments in /usr/local/lib/python3.10/dist-packages (from kivy->donkeycar==5.0.dev3) (2.16.1)\n",
            "Requirement already satisfied: contourpy>=1.0.1 in /usr/local/lib/python3.10/dist-packages (from matplotlib->donkeycar==5.0.dev3) (1.1.1)\n",
            "Requirement already satisfied: cycler>=0.10 in /usr/local/lib/python3.10/dist-packages (from matplotlib->donkeycar==5.0.dev3) (0.12.1)\n",
            "Requirement already satisfied: fonttools>=4.22.0 in /usr/local/lib/python3.10/dist-packages (from matplotlib->donkeycar==5.0.dev3) (4.43.1)\n",
            "Requirement already satisfied: kiwisolver>=1.0.1 in /usr/local/lib/python3.10/dist-packages (from matplotlib->donkeycar==5.0.dev3) (1.4.5)\n",
            "Requirement already satisfied: packaging>=20.0 in /usr/local/lib/python3.10/dist-packages (from matplotlib->donkeycar==5.0.dev3) (23.2)\n",
            "Requirement already satisfied: pyparsing>=2.3.1 in /usr/local/lib/python3.10/dist-packages (from matplotlib->donkeycar==5.0.dev3) (3.1.1)\n",
            "Requirement already satisfied: python-dateutil>=2.7 in /usr/local/lib/python3.10/dist-packages (from matplotlib->donkeycar==5.0.dev3) (2.8.2)\n",
            "Requirement already satisfied: pytz>=2020.1 in /usr/local/lib/python3.10/dist-packages (from pandas->donkeycar==5.0.dev3) (2023.3.post1)\n",
            "Requirement already satisfied: tenacity>=6.2.0 in /usr/local/lib/python3.10/dist-packages (from plotly->donkeycar==5.0.dev3) (8.2.3)\n",
            "Requirement already satisfied: wcwidth in /usr/local/lib/python3.10/dist-packages (from PrettyTable->donkeycar==5.0.dev3) (0.2.8)\n",
            "Requirement already satisfied: charset-normalizer<4,>=2 in /usr/local/lib/python3.10/dist-packages (from requests->donkeycar==5.0.dev3) (3.3.0)\n",
            "Requirement already satisfied: idna<4,>=2.5 in /usr/local/lib/python3.10/dist-packages (from requests->donkeycar==5.0.dev3) (3.4)\n",
            "Requirement already satisfied: urllib3<3,>=1.21.1 in /usr/local/lib/python3.10/dist-packages (from requests->donkeycar==5.0.dev3) (2.0.7)\n",
            "Requirement already satisfied: certifi>=2017.4.17 in /usr/local/lib/python3.10/dist-packages (from requests->donkeycar==5.0.dev3) (2023.7.22)\n",
            "Requirement already satisfied: six>=1.5 in /usr/local/lib/python3.10/dist-packages (from python-dateutil>=2.7->matplotlib->donkeycar==5.0.dev3) (1.16.0)\n",
            "Requirement already satisfied: scikit-learn>=0.19.1 in /usr/local/lib/python3.10/dist-packages (from qudida>=0.0.4->albumentations->donkeycar==5.0.dev3) (1.2.2)\n",
            "Requirement already satisfied: networkx>=2.2 in /usr/local/lib/python3.10/dist-packages (from scikit-image>=0.16.1->albumentations->donkeycar==5.0.dev3) (3.2)\n",
            "Requirement already satisfied: imageio>=2.4.1 in /usr/local/lib/python3.10/dist-packages (from scikit-image>=0.16.1->albumentations->donkeycar==5.0.dev3) (2.31.5)\n",
            "Requirement already satisfied: tifffile>=2019.7.26 in /usr/local/lib/python3.10/dist-packages (from scikit-image>=0.16.1->albumentations->donkeycar==5.0.dev3) (2023.9.26)\n",
            "Requirement already satisfied: PyWavelets>=1.1.1 in /usr/local/lib/python3.10/dist-packages (from scikit-image>=0.16.1->albumentations->donkeycar==5.0.dev3) (1.4.1)\n",
            "Requirement already satisfied: joblib>=1.1.1 in /usr/local/lib/python3.10/dist-packages (from scikit-learn>=0.19.1->qudida>=0.0.4->albumentations->donkeycar==5.0.dev3) (1.3.2)\n",
            "Requirement already satisfied: threadpoolctl>=2.0.0 in /usr/local/lib/python3.10/dist-packages (from scikit-learn>=0.19.1->qudida>=0.0.4->albumentations->donkeycar==5.0.dev3) (3.2.0)\n",
            "Building wheels for collected packages: docopt, paho-mqtt, progress, utm\n",
            "  Building wheel for docopt (setup.py) ... \u001b[?25l\u001b[?25hdone\n",
            "  Created wheel for docopt: filename=docopt-0.6.2-py2.py3-none-any.whl size=13705 sha256=cd3e1fe93cffef07ce123fbb21199b2cf1166ee96e15bdd9e7db1d56a85b8b31\n",
            "  Stored in directory: /root/.cache/pip/wheels/fc/ab/d4/5da2067ac95b36618c629a5f93f809425700506f72c9732fac\n",
            "  Building wheel for paho-mqtt (setup.py) ... \u001b[?25l\u001b[?25hdone\n",
            "  Created wheel for paho-mqtt: filename=paho_mqtt-1.6.1-py3-none-any.whl size=62118 sha256=ce13140233a017c7f6f1a6344d71a1aef49f1aa3011696e8bf293480d30d314e\n",
            "  Stored in directory: /root/.cache/pip/wheels/8b/bb/0c/79444d1dee20324d442856979b5b519b48828b0bd3d05df84a\n",
            "  Building wheel for progress (setup.py) ... \u001b[?25l\u001b[?25hdone\n",
            "  Created wheel for progress: filename=progress-1.6-py3-none-any.whl size=9610 sha256=e6b34a61750c416067f4fdebf1f05c930afc94d2c9693b0bf2aabd3df494636d\n",
            "  Stored in directory: /root/.cache/pip/wheels/a2/68/5f/c339b20a41659d856c93ccdce6a33095493eb82c3964aac5a1\n",
            "  Building wheel for utm (setup.py) ... \u001b[?25l\u001b[?25hdone\n",
            "  Created wheel for utm: filename=utm-0.7.0-py3-none-any.whl size=6085 sha256=32ab63329cb0a5d8802f47eaeca1c94f70d094038487eac0520a5d0f4098bc34\n",
            "  Stored in directory: /root/.cache/pip/wheels/2f/a1/c8/543df0e8f5e824c3e92a432e32deb9cd89ae686095ee8cfcbe\n",
            "Successfully built docopt paho-mqtt progress utm\n",
            "Installing collected packages: utm, pyserial, pynmea2, progress, paho-mqtt, docopt, simple_pid, pyfiglet, Kivy-Garden, kivy, donkeycar\n",
            "  Running setup.py develop for donkeycar\n",
            "Successfully installed Kivy-Garden-0.1.5 docopt-0.6.2 donkeycar-5.0.dev3 kivy-2.2.1 paho-mqtt-1.6.1 progress-1.6 pyfiglet-1.0.2 pynmea2-1.19.0 pyserial-3.5 simple_pid-2.0.0 utm-0.7.0\n"
          ]
        }
      ],
      "source": [
        "!pip3 install -e .[pc]"
      ]
    },
    {
      "cell_type": "markdown",
      "metadata": {
        "id": "syCctLq2r4Wk"
      },
      "source": [
        "## Criar Projeto"
      ]
    },
    {
      "cell_type": "code",
      "execution_count": null,
      "metadata": {
        "colab": {
          "base_uri": "https://localhost:8080/"
        },
        "id": "1xjJBSITyXy2",
        "outputId": "b49d27fa-df45-46c4-faeb-5442486a217e"
      },
      "outputs": [
        {
          "name": "stdout",
          "output_type": "stream",
          "text": [
            "________             ______                   _________              \n",
            "___  __ \\_______________  /___________  __    __  ____/_____ ________\n",
            "__  / / /  __ \\_  __ \\_  //_/  _ \\_  / / /    _  /    _  __ `/_  ___/\n",
            "_  /_/ // /_/ /  / / /  ,<  /  __/  /_/ /     / /___  / /_/ /_  /    \n",
            "/_____/ \\____//_/ /_//_/|_| \\___/_\\__, /      \\____/  \\__,_/ /_/     \n",
            "                                 /____/                              \n",
            "\n",
            "using donkey v5.0.dev3 ...\n",
            "Creating car folder: /content/mycar\n",
            "making dir  /content/mycar\n",
            "Creating data & model folders.\n",
            "making dir  /content/mycar/models\n",
            "making dir  /content/mycar/data\n",
            "making dir  /content/mycar/logs\n",
            "Copying car application template: complete\n",
            "Copying car config defaults. Adjust these before starting your car.\n",
            "Copying train script. Adjust these before starting your car.\n",
            "Copying calibrate script. Adjust these before starting your car.\n",
            "Copying my car config overrides\n",
            "Donkey setup complete.\n"
          ]
        }
      ],
      "source": [
        "!donkey createcar --path /content/mycar"
      ]
    },
    {
      "cell_type": "markdown",
      "metadata": {
        "id": "wlwZuLKA56nt"
      },
      "source": [
        "### Defina o nome do seu tub aqui\n",
        "Tub é o nome dado para a pasta data que contém tanto as imagens coletadas quanto os catálogos com informações passadas ao modelo."
      ]
    },
    {
      "cell_type": "code",
      "execution_count": null,
      "metadata": {
        "id": "kXR0E5V6vuji"
      },
      "outputs": [],
      "source": [
        "tub_name=\"treinamento-5\""
      ]
    },
    {
      "cell_type": "markdown",
      "metadata": {
        "id": "W47gmXA0O4Lo"
      },
      "source": [
        "### Monte o Google Drive no ambiente do colab\n",
        "É importante que o tub já esteja no Drive para que se possa copiá-lo.\n",
        "A estrutura do Drive neste notebook é Drive/jetson/{nome_do_tub} onde nome_do_tub varia de acordo com determinada coleta e nesta pasta se encontrará o arquivo zipado \"data.zip\". **Altere de acordo com o necessário.**"
      ]
    },
    {
      "cell_type": "code",
      "execution_count": null,
      "metadata": {
        "colab": {
          "base_uri": "https://localhost:8080/"
        },
        "id": "Bgp_wtENw_4n",
        "outputId": "6b1600fa-02fe-4623-9e31-78db74b255de"
      },
      "outputs": [
        {
          "name": "stdout",
          "output_type": "stream",
          "text": [
            "Mounted at /content/drive\n"
          ]
        }
      ],
      "source": [
        "from google.colab import drive\n",
        "drive.mount('/content/drive')"
      ]
    },
    {
      "cell_type": "markdown",
      "metadata": {
        "id": "xQb0iHKDM9CE"
      },
      "source": [
        "Removendo o diretorio /data que é criado automaticamente para que ele possa ser substituído pelo que virá do Drive."
      ]
    },
    {
      "cell_type": "code",
      "execution_count": null,
      "metadata": {
        "colab": {
          "base_uri": "https://localhost:8080/"
        },
        "id": "22t7txjxCKld",
        "outputId": "a14f8230-f7fa-48d5-9353-702f2609a00b"
      },
      "outputs": [
        {
          "name": "stdout",
          "output_type": "stream",
          "text": [
            "/content/mycar\n"
          ]
        }
      ],
      "source": [
        "%cd /content/mycar\n",
        "%rmdir data"
      ]
    },
    {
      "cell_type": "markdown",
      "metadata": {
        "id": "s1ebAhZ36rd6"
      },
      "source": [
        "# Copie e descompacte o data.zip"
      ]
    },
    {
      "cell_type": "code",
      "execution_count": null,
      "metadata": {
        "id": "sAeGrYPA6c_t"
      },
      "outputs": [],
      "source": [
        "!cp /content/drive/My\\ Drive/jetson/{tub_name}/data.zip ."
      ]
    },
    {
      "cell_type": "code",
      "execution_count": null,
      "metadata": {
        "colab": {
          "base_uri": "https://localhost:8080/"
        },
        "id": "BBqtYvRW68r6",
        "outputId": "6547d34b-88d7-4919-e171-770af3314314"
      },
      "outputs": [],
      "source": [
        "!unzip data.zip\n",
        "!rm data.zip"
      ]
    },
    {
      "cell_type": "markdown",
      "metadata": {
        "id": "eyPsgV5KyFkg"
      },
      "source": [
        "Verificando os dados copiados e descompactados"
      ]
    },
    {
      "cell_type": "code",
      "execution_count": null,
      "metadata": {
        "colab": {
          "base_uri": "https://localhost:8080/"
        },
        "id": "KsItvBTkzWcH",
        "outputId": "f303d8a0-512b-4a4f-e8aa-3d9a8b05fca9"
      },
      "outputs": [
        {
          "name": "stdout",
          "output_type": "stream",
          "text": [
            "/content/mycar\n",
            "catalog_0.catalog\t    catalog_2.catalog\t\tcatalog_4.catalog\t    images\n",
            "catalog_0.catalog_manifest  catalog_2.catalog_manifest\tcatalog_4.catalog_manifest  manifest.json\n",
            "catalog_1.catalog\t    catalog_3.catalog\t\tcatalog_5.catalog\n",
            "catalog_1.catalog_manifest  catalog_3.catalog_manifest\tcatalog_5.catalog_manifest\n"
          ]
        }
      ],
      "source": [
        "%cd /content/mycar\n",
        "!ls data"
      ]
    },
    {
      "cell_type": "markdown",
      "metadata": {
        "id": "7s9ec6B61b9_"
      },
      "source": [
        "# Usando um segundo Tub\n",
        "É possível que na hora da coleta, esta tenha sido feita em momentos distintos, assim acabando com dois ou mais Tubs(diretórios /data) e portanto aqui demonstra-se a nomeação de um segundo local de Tub."
      ]
    },
    {
      "cell_type": "code",
      "execution_count": null,
      "metadata": {
        "id": "pXrRE9ah1tPM"
      },
      "outputs": [],
      "source": [
        "tub_name2=\"treinamento-4\""
      ]
    },
    {
      "cell_type": "code",
      "execution_count": null,
      "metadata": {
        "colab": {
          "base_uri": "https://localhost:8080/"
        },
        "id": "KgzTPTrn1bs-",
        "outputId": "cb39dbfd-f948-4af9-9eed-a0de43832a3b"
      },
      "outputs": [
        {
          "name": "stdout",
          "output_type": "stream",
          "text": [
            "/content/mycar/data1\n"
          ]
        }
      ],
      "source": [
        "%mkdir data1\n",
        "%cd /content/mycar/data1\n",
        "!cp /content/drive/My\\ Drive/jetson/{tub_name2}/data.zip ."
      ]
    },
    {
      "cell_type": "code",
      "execution_count": null,
      "metadata": {
        "colab": {
          "base_uri": "https://localhost:8080/"
        },
        "id": "GTMYWhTF11MN",
        "outputId": "b8da8705-acd9-4f5f-e322-b673427888ff"
      },
      "outputs": [],
      "source": [
        "!unzip data.zip\n",
        "!rm data.zip"
      ]
    },
    {
      "cell_type": "code",
      "execution_count": null,
      "metadata": {
        "colab": {
          "base_uri": "https://localhost:8080/"
        },
        "id": "jY_l8JSJyXri",
        "outputId": "919af101-b039-43ed-e3b1-3bba57cc0ca1"
      },
      "outputs": [
        {
          "name": "stdout",
          "output_type": "stream",
          "text": [
            "/content/mycar\n",
            "catalog_0.catalog\t     catalog_15.catalog_manifest  catalog_5.catalog\n",
            "catalog_0.catalog_manifest   catalog_16.catalog\t\t  catalog_5.catalog_manifest\n",
            "catalog_10.catalog\t     catalog_16.catalog_manifest  catalog_6.catalog\n",
            "catalog_10.catalog_manifest  catalog_17.catalog\t\t  catalog_6.catalog_manifest\n",
            "catalog_11.catalog\t     catalog_17.catalog_manifest  catalog_7.catalog\n",
            "catalog_11.catalog_manifest  catalog_1.catalog\t\t  catalog_7.catalog_manifest\n",
            "catalog_12.catalog\t     catalog_1.catalog_manifest   catalog_8.catalog\n",
            "catalog_12.catalog_manifest  catalog_2.catalog\t\t  catalog_8.catalog_manifest\n",
            "catalog_13.catalog\t     catalog_2.catalog_manifest   catalog_9.catalog\n",
            "catalog_13.catalog_manifest  catalog_3.catalog\t\t  catalog_9.catalog_manifest\n",
            "catalog_14.catalog\t     catalog_3.catalog_manifest   images\n",
            "catalog_14.catalog_manifest  catalog_4.catalog\t\t  manifest.json\n",
            "catalog_15.catalog\t     catalog_4.catalog_manifest\n"
          ]
        }
      ],
      "source": [
        "%cd /content/mycar\n",
        "!ls data1"
      ]
    },
    {
      "cell_type": "markdown",
      "metadata": {
        "id": "T3Ya8qEUAfOv"
      },
      "source": [
        "## Treinando o Modelo\n",
        "Abaixo temos algumas opções de treinamento alterando-se o tipo de modelo de acordo com o explicado em https://docs.donkeycar.com/parts/keras/"
      ]
    },
    {
      "cell_type": "code",
      "execution_count": null,
      "metadata": {
        "colab": {
          "base_uri": "https://localhost:8080/"
        },
        "id": "edH3xO_AVWXu",
        "outputId": "3733c5ee-2b16-4bce-ce23-fc0022651f96"
      },
      "outputs": [
        {
          "name": "stdout",
          "output_type": "stream",
          "text": [
            "/content/mycar\n",
            "________             ______                   _________              \n",
            "___  __ \\_______________  /___________  __    __  ____/_____ ________\n",
            "__  / / /  __ \\_  __ \\_  //_/  _ \\_  / / /    _  /    _  __ `/_  ___/\n",
            "_  /_/ // /_/ /  / / /  ,<  /  __/  /_/ /     / /___  / /_/ /_  /    \n",
            "/_____/ \\____//_/ /_//_/|_| \\___/_\\__, /      \\____/  \\__,_/ /_/     \n",
            "                                 /____/                              \n",
            "\n",
            "using donkey v5.0.dev3 ...\n",
            "INFO:donkeycar.config:loading config file: ./config.py\n",
            "INFO:donkeycar.config:loading personal config over-rides from ./myconfig.py\n",
            "2023-10-25 21:45:29.416557: E tensorflow/compiler/xla/stream_executor/cuda/cuda_dnn.cc:9342] Unable to register cuDNN factory: Attempting to register factory for plugin cuDNN when one has already been registered\n",
            "2023-10-25 21:45:29.416638: E tensorflow/compiler/xla/stream_executor/cuda/cuda_fft.cc:609] Unable to register cuFFT factory: Attempting to register factory for plugin cuFFT when one has already been registered\n",
            "2023-10-25 21:45:29.416680: E tensorflow/compiler/xla/stream_executor/cuda/cuda_blas.cc:1518] Unable to register cuBLAS factory: Attempting to register factory for plugin cuBLAS when one has already been registered\n",
            "2023-10-25 21:45:30.452984: W tensorflow/compiler/tf2tensorrt/utils/py_utils.cc:38] TF-TRT Warning: Could not find TensorRT\n",
            "INFO:numexpr.utils:NumExpr defaulting to 2 threads.\n",
            "WARNING:donkeycar.pipeline.database:No model database found at /content/mycar/models/database.json\n",
            "INFO:donkeycar.utils:get_model_by_type: model type is: memory\n",
            "INFO:donkeycar.parts.keras:Creating memory model with length 3, depth 0\n",
            "2023-10-25 21:45:36.914522: W tensorflow/core/common_runtime/gpu/gpu_bfc_allocator.cc:47] Overriding orig_value setting because the TF_FORCE_GPU_ALLOW_GROWTH environment variable is set. Original config value was 0.\n",
            "INFO:donkeycar.parts.keras:Created KerasMemory-L:3-D:0 with interpreter: KerasInterpreter\n",
            "Model: \"memory\"\n",
            "__________________________________________________________________________________________________\n",
            " Layer (type)                Output Shape                 Param #   Connected to                  \n",
            "==================================================================================================\n",
            " img_in (InputLayer)         [(None, 120, 160, 3)]        0         []                            \n",
            "                                                                                                  \n",
            " conv2d_1 (Conv2D)           (None, 58, 78, 24)           1824      ['img_in[0][0]']              \n",
            "                                                                                                  \n",
            " dropout (Dropout)           (None, 58, 78, 24)           0         ['conv2d_1[0][0]']            \n",
            "                                                                                                  \n",
            " conv2d_2 (Conv2D)           (None, 27, 37, 32)           19232     ['dropout[0][0]']             \n",
            "                                                                                                  \n",
            " dropout_1 (Dropout)         (None, 27, 37, 32)           0         ['conv2d_2[0][0]']            \n",
            "                                                                                                  \n",
            " conv2d_3 (Conv2D)           (None, 12, 17, 64)           51264     ['dropout_1[0][0]']           \n",
            "                                                                                                  \n",
            " dropout_2 (Dropout)         (None, 12, 17, 64)           0         ['conv2d_3[0][0]']            \n",
            "                                                                                                  \n",
            " conv2d_4 (Conv2D)           (None, 10, 15, 64)           36928     ['dropout_2[0][0]']           \n",
            "                                                                                                  \n",
            " mem_in (InputLayer)         [(None, 6)]                  0         []                            \n",
            "                                                                                                  \n",
            " dropout_3 (Dropout)         (None, 10, 15, 64)           0         ['conv2d_4[0][0]']            \n",
            "                                                                                                  \n",
            " mem_c_1 (Dense)             (None, 4)                    28        ['mem_in[0][0]']              \n",
            "                                                                                                  \n",
            " conv2d_5 (Conv2D)           (None, 8, 13, 64)            36928     ['dropout_3[0][0]']           \n",
            "                                                                                                  \n",
            " dropout_5 (Dropout)         (None, 4)                    0         ['mem_c_1[0][0]']             \n",
            "                                                                                                  \n",
            " dropout_4 (Dropout)         (None, 8, 13, 64)            0         ['conv2d_5[0][0]']            \n",
            "                                                                                                  \n",
            " mem_c_2 (Dense)             (None, 2)                    10        ['dropout_5[0][0]']           \n",
            "                                                                                                  \n",
            " flattened (Flatten)         (None, 6656)                 0         ['dropout_4[0][0]']           \n",
            "                                                                                                  \n",
            " dropout_6 (Dropout)         (None, 2)                    0         ['mem_c_2[0][0]']             \n",
            "                                                                                                  \n",
            " tf.concat (TFOpLambda)      (None, 6658)                 0         ['flattened[0][0]',           \n",
            "                                                                     'dropout_6[0][0]']           \n",
            "                                                                                                  \n",
            " dense_1 (Dense)             (None, 100)                  665900    ['tf.concat[0][0]']           \n",
            "                                                                                                  \n",
            " dropout_7 (Dropout)         (None, 100)                  0         ['dense_1[0][0]']             \n",
            "                                                                                                  \n",
            " dense_2 (Dense)             (None, 50)                   5050      ['dropout_7[0][0]']           \n",
            "                                                                                                  \n",
            " dropout_8 (Dropout)         (None, 50)                   0         ['dense_2[0][0]']             \n",
            "                                                                                                  \n",
            " n_outputs0 (Dense)          (None, 1)                    51        ['dropout_8[0][0]']           \n",
            "                                                                                                  \n",
            " n_outputs1 (Dense)          (None, 1)                    51        ['dropout_8[0][0]']           \n",
            "                                                                                                  \n",
            "==================================================================================================\n",
            "Total params: 817266 (3.12 MB)\n",
            "Trainable params: 817266 (3.12 MB)\n",
            "Non-trainable params: 0 (0.00 Byte)\n",
            "__________________________________________________________________________________________________\n",
            "INFO:donkeycar.parts.datastore_v2:Found datastore at /content/mycar/data\n",
            "INFO:donkeycar.parts.datastore_v2:Using last catalog /content/mycar/data/catalog_5.catalog\n",
            "INFO:donkeycar.parts.datastore_v2:Found datastore at /content/mycar/data1\n",
            "INFO:donkeycar.parts.datastore_v2:Using last catalog /content/mycar/data1/catalog_17.catalog\n",
            "INFO:donkeycar.pipeline.types:Loading tubs from paths ['./data', './data1']\n",
            "INFO:donkeycar.pipeline.training:Records # Training 17840\n",
            "INFO:donkeycar.pipeline.training:Records # Validation 4461\n",
            "INFO:donkeycar.parts.tub_v2:Closing tub ./data\n",
            "INFO:donkeycar.parts.tub_v2:Closing tub ./data1\n",
            "INFO:donkeycar.parts.image_transformations:Creating ImageTransformations []\n",
            "INFO:donkeycar.parts.image_transformations:Creating ImageTransformations []\n",
            "INFO:donkeycar.parts.image_transformations:Creating ImageTransformations []\n",
            "INFO:donkeycar.parts.image_transformations:Creating ImageTransformations []\n",
            "INFO:donkeycar.pipeline.training:Train with image caching: True\n",
            "INFO:donkeycar.parts.keras:////////// Starting training //////////\n",
            "Epoch 1/100\n",
            "2023-10-25 21:45:39.653806: E tensorflow/core/grappler/optimizers/meta_optimizer.cc:961] layout failed: INVALID_ARGUMENT: Size of values 0 does not match size of permutation 4 @ fanin shape inmemory/dropout/dropout/SelectV2-2-TransposeNHWCToNCHW-LayoutOptimizer\n",
            "140/140 [==============================] - ETA: 0s - loss: 0.1534 - n_outputs0_loss: 0.1448 - n_outputs1_loss: 0.0086\n",
            "Epoch 1: val_loss improved from inf to 0.05560, saving model to /content/mycar/models/mymempilot4e5.h5\n",
            "/usr/local/lib/python3.10/dist-packages/keras/src/engine/training.py:3079: UserWarning: You are saving your model as an HDF5 file via `model.save()`. This file format is considered legacy. We recommend using instead the native Keras format, e.g. `model.save('my_model.keras')`.\n",
            "  saving_api.save_model(\n",
            "140/140 [==============================] - 50s 255ms/step - loss: 0.1534 - n_outputs0_loss: 0.1448 - n_outputs1_loss: 0.0086 - val_loss: 0.0556 - val_n_outputs0_loss: 0.0519 - val_n_outputs1_loss: 0.0037\n",
            "Epoch 2/100\n",
            "140/140 [==============================] - ETA: 0s - loss: 0.0640 - n_outputs0_loss: 0.0602 - n_outputs1_loss: 0.0038\n",
            "Epoch 2: val_loss improved from 0.05560 to 0.03951, saving model to /content/mycar/models/mymempilot4e5.h5\n",
            "140/140 [==============================] - 23s 164ms/step - loss: 0.0640 - n_outputs0_loss: 0.0602 - n_outputs1_loss: 0.0038 - val_loss: 0.0395 - val_n_outputs0_loss: 0.0383 - val_n_outputs1_loss: 0.0012\n",
            "Epoch 3/100\n",
            "140/140 [==============================] - ETA: 0s - loss: 0.0514 - n_outputs0_loss: 0.0485 - n_outputs1_loss: 0.0029\n",
            "Epoch 3: val_loss improved from 0.03951 to 0.03647, saving model to /content/mycar/models/mymempilot4e5.h5\n",
            "140/140 [==============================] - 21s 153ms/step - loss: 0.0514 - n_outputs0_loss: 0.0485 - n_outputs1_loss: 0.0029 - val_loss: 0.0365 - val_n_outputs0_loss: 0.0355 - val_n_outputs1_loss: 9.5418e-04\n",
            "Epoch 4/100\n",
            "140/140 [==============================] - ETA: 0s - loss: 0.0461 - n_outputs0_loss: 0.0435 - n_outputs1_loss: 0.0026\n",
            "Epoch 4: val_loss improved from 0.03647 to 0.03460, saving model to /content/mycar/models/mymempilot4e5.h5\n",
            "140/140 [==============================] - 21s 149ms/step - loss: 0.0461 - n_outputs0_loss: 0.0435 - n_outputs1_loss: 0.0026 - val_loss: 0.0346 - val_n_outputs0_loss: 0.0336 - val_n_outputs1_loss: 0.0010\n",
            "Epoch 5/100\n",
            "140/140 [==============================] - ETA: 0s - loss: 0.0410 - n_outputs0_loss: 0.0388 - n_outputs1_loss: 0.0023\n",
            "Epoch 5: val_loss improved from 0.03460 to 0.03082, saving model to /content/mycar/models/mymempilot4e5.h5\n",
            "140/140 [==============================] - 25s 182ms/step - loss: 0.0410 - n_outputs0_loss: 0.0388 - n_outputs1_loss: 0.0023 - val_loss: 0.0308 - val_n_outputs0_loss: 0.0302 - val_n_outputs1_loss: 6.3051e-04\n",
            "Epoch 6/100\n",
            "140/140 [==============================] - ETA: 0s - loss: 0.0390 - n_outputs0_loss: 0.0370 - n_outputs1_loss: 0.0020\n",
            "Epoch 6: val_loss improved from 0.03082 to 0.02965, saving model to /content/mycar/models/mymempilot4e5.h5\n",
            "140/140 [==============================] - 20s 141ms/step - loss: 0.0390 - n_outputs0_loss: 0.0370 - n_outputs1_loss: 0.0020 - val_loss: 0.0296 - val_n_outputs0_loss: 0.0291 - val_n_outputs1_loss: 5.5322e-04\n",
            "Epoch 7/100\n",
            "140/140 [==============================] - ETA: 0s - loss: 0.0372 - n_outputs0_loss: 0.0353 - n_outputs1_loss: 0.0019\n",
            "Epoch 7: val_loss improved from 0.02965 to 0.02865, saving model to /content/mycar/models/mymempilot4e5.h5\n",
            "140/140 [==============================] - 23s 167ms/step - loss: 0.0372 - n_outputs0_loss: 0.0353 - n_outputs1_loss: 0.0019 - val_loss: 0.0286 - val_n_outputs0_loss: 0.0282 - val_n_outputs1_loss: 4.3419e-04\n",
            "Epoch 8/100\n",
            "140/140 [==============================] - ETA: 0s - loss: 0.0362 - n_outputs0_loss: 0.0345 - n_outputs1_loss: 0.0017\n",
            "Epoch 8: val_loss improved from 0.02865 to 0.02761, saving model to /content/mycar/models/mymempilot4e5.h5\n",
            "140/140 [==============================] - 20s 147ms/step - loss: 0.0362 - n_outputs0_loss: 0.0345 - n_outputs1_loss: 0.0017 - val_loss: 0.0276 - val_n_outputs0_loss: 0.0272 - val_n_outputs1_loss: 4.1773e-04\n",
            "Epoch 9/100\n",
            "140/140 [==============================] - ETA: 0s - loss: 0.0345 - n_outputs0_loss: 0.0329 - n_outputs1_loss: 0.0016\n",
            "Epoch 9: val_loss did not improve from 0.02761\n",
            "140/140 [==============================] - 16s 112ms/step - loss: 0.0345 - n_outputs0_loss: 0.0329 - n_outputs1_loss: 0.0016 - val_loss: 0.0293 - val_n_outputs0_loss: 0.0287 - val_n_outputs1_loss: 5.3948e-04\n",
            "Epoch 10/100\n",
            "140/140 [==============================] - ETA: 0s - loss: 0.0333 - n_outputs0_loss: 0.0319 - n_outputs1_loss: 0.0015\n",
            "Epoch 10: val_loss did not improve from 0.02761\n",
            "140/140 [==============================] - 24s 169ms/step - loss: 0.0333 - n_outputs0_loss: 0.0319 - n_outputs1_loss: 0.0015 - val_loss: 0.0284 - val_n_outputs0_loss: 0.0279 - val_n_outputs1_loss: 4.9930e-04\n",
            "Epoch 11/100\n",
            "140/140 [==============================] - ETA: 0s - loss: 0.0335 - n_outputs0_loss: 0.0322 - n_outputs1_loss: 0.0014\n",
            "Epoch 11: val_loss did not improve from 0.02761\n",
            "140/140 [==============================] - 21s 153ms/step - loss: 0.0335 - n_outputs0_loss: 0.0322 - n_outputs1_loss: 0.0014 - val_loss: 0.0281 - val_n_outputs0_loss: 0.0277 - val_n_outputs1_loss: 4.0279e-04\n",
            "Epoch 12/100\n",
            "140/140 [==============================] - ETA: 0s - loss: 0.0321 - n_outputs0_loss: 0.0309 - n_outputs1_loss: 0.0012\n",
            "Epoch 12: val_loss did not improve from 0.02761\n",
            "140/140 [==============================] - 15s 109ms/step - loss: 0.0321 - n_outputs0_loss: 0.0309 - n_outputs1_loss: 0.0012 - val_loss: 0.0288 - val_n_outputs0_loss: 0.0284 - val_n_outputs1_loss: 4.2625e-04\n",
            "Epoch 13/100\n",
            "140/140 [==============================] - ETA: 0s - loss: 0.0313 - n_outputs0_loss: 0.0301 - n_outputs1_loss: 0.0012\n",
            "Epoch 13: val_loss did not improve from 0.02761\n",
            "140/140 [==============================] - 21s 148ms/step - loss: 0.0313 - n_outputs0_loss: 0.0301 - n_outputs1_loss: 0.0012 - val_loss: 0.0286 - val_n_outputs0_loss: 0.0282 - val_n_outputs1_loss: 4.0201e-04\n",
            "INFO:donkeycar.parts.keras:////////// Finished training in: 0:05:00.306223 //////////\n",
            "INFO:donkeycar.parts.interpreter:Convert model /content/mycar/models/mymempilot4e5.h5 to TFLite /content/mycar/models/mymempilot4e5.tflite\n",
            "INFO:tensorflow:Assets written to: /tmp/tmp6katkilt/assets\n",
            "2023-10-25 21:51:05.280027: W tensorflow/compiler/mlir/lite/python/tf_tfl_flatbuffer_helpers.cc:378] Ignored output_format.\n",
            "2023-10-25 21:51:05.280073: W tensorflow/compiler/mlir/lite/python/tf_tfl_flatbuffer_helpers.cc:381] Ignored drop_control_dependency.\n",
            "INFO:donkeycar.parts.interpreter:TFLite conversion done.\n",
            "INFO:donkeycar.pipeline.database:Writing database file: /content/mycar/models/database.json\n"
          ]
        }
      ],
      "source": [
        "%cd /content/mycar\n",
        "\n",
        "# !donkey train --tub ./data --model ./models/mypilot.h5   # Linear (Padrão)\n",
        "# !donkey train --tub ./data --model ./models/mymempilot3.h5 --type=memory # Memory\n",
        "!donkey train --tub ./data ./data1 --model ./models/mymempilot4e5.h5 --type=memory # Memory com dois Tubs"
      ]
    },
    {
      "cell_type": "markdown",
      "metadata": {
        "id": "rXzn1noJz5MQ"
      },
      "source": [
        "Verifique se o modelo foi gerado\n"
      ]
    },
    {
      "cell_type": "code",
      "execution_count": null,
      "metadata": {
        "colab": {
          "base_uri": "https://localhost:8080/"
        },
        "id": "5b9vJV4EzlO8",
        "outputId": "6bea39ef-6d01-4207-91b1-7386f4e84831"
      },
      "outputs": [
        {
          "name": "stdout",
          "output_type": "stream",
          "text": [
            "total 13M\n",
            "drwxr-xr-x 2 root root 4.0K Oct 25 21:51 .\n",
            "drwxr-xr-x 6 root root 4.0K Oct 25 21:43 ..\n",
            "-rw-r--r-- 1 root root 9.6K Oct 25 21:51 database.json\n",
            "-rw-r--r-- 1 root root 9.5M Oct 25 21:49 mymempilot4e5.h5\n",
            "-rw-r--r-- 1 root root  23K Oct 25 21:51 mymempilot4e5.png\n",
            "-rw-r--r-- 1 root root 3.2M Oct 25 21:51 mymempilot4e5.tflite\n"
          ]
        }
      ],
      "source": [
        "!ls -alh /content/mycar/models"
      ]
    },
    {
      "cell_type": "markdown",
      "metadata": {
        "id": "J6lT9qi4PYoV"
      },
      "source": [
        "# Observe a curva da perda e validação do modelo ao longo das épocas"
      ]
    },
    {
      "cell_type": "code",
      "execution_count": null,
      "metadata": {
        "colab": {
          "base_uri": "https://localhost:8080/",
          "height": 514
        },
        "id": "AixQrFy_z3vv",
        "outputId": "285f8af9-bf12-4cdf-d55b-0216dd77fb58"
      },
      "outputs": [
        {
          "name": "stdout",
          "output_type": "stream",
          "text": [
            "/content/mycar/models\n"
          ]
        },
        {
          "data": {
            "image/png": "[encoded data removed]",
            "text/plain": [
              "<IPython.core.display.Image object>"
            ]
          },
          "execution_count": 20,
          "metadata": {},
          "output_type": "execute_result"
        }
      ],
      "source": [
        "%cd /content/mycar/models\n",
        "\n",
        "import glob\n",
        "file = glob.glob(\"*.png\")\n",
        "\n",
        "from IPython.display import Image\n",
        "Image(file[0])"
      ]
    },
    {
      "cell_type": "markdown",
      "metadata": {
        "id": "6BEOJYH601O0"
      },
      "source": [
        "## Faça o download do modelo ou copie direto para o Google Drive para colocá-lo no carrinho"
      ]
    },
    {
      "cell_type": "markdown",
      "metadata": {
        "id": "Q5eaIQsEP1o_"
      },
      "source": [
        "Download"
      ]
    },
    {
      "cell_type": "code",
      "execution_count": null,
      "metadata": {
        "colab": {
          "base_uri": "https://localhost:8080/",
          "height": 34
        },
        "id": "YtvyJpOdocjb",
        "outputId": "27f36859-0bd6-4891-9076-f2f0a4865187"
      },
      "outputs": [
        {
          "data": {
            "application/javascript": "\n    async function download(id, filename, size) {\n      if (!google.colab.kernel.accessAllowed) {\n        return;\n      }\n      const div = document.createElement('div');\n      const label = document.createElement('label');\n      label.textContent = `Downloading \"${filename}\": `;\n      div.appendChild(label);\n      const progress = document.createElement('progress');\n      progress.max = size;\n      div.appendChild(progress);\n      document.body.appendChild(div);\n\n      const buffers = [];\n      let downloaded = 0;\n\n      const channel = await google.colab.kernel.comms.open(id);\n      // Send a message to notify the kernel that we're ready.\n      channel.send({})\n\n      for await (const message of channel.messages) {\n        // Send a message to notify the kernel that we're ready.\n        channel.send({})\n        if (message.buffers) {\n          for (const buffer of message.buffers) {\n            buffers.push(buffer);\n            downloaded += buffer.byteLength;\n            progress.value = downloaded;\n          }\n        }\n      }\n      const blob = new Blob(buffers, {type: 'application/binary'});\n      const a = document.createElement('a');\n      a.href = window.URL.createObjectURL(blob);\n      a.download = filename;\n      div.appendChild(a);\n      a.click();\n      div.remove();\n    }\n  ",
            "text/plain": [
              "<IPython.core.display.Javascript object>"
            ]
          },
          "metadata": {},
          "output_type": "display_data"
        },
        {
          "data": {
            "application/javascript": "download(\"download_8d4bbbc7-a8d1-45a3-b864-ff522e4c720f\", \"mymempilot2.h5\", 9917464)",
            "text/plain": [
              "<IPython.core.display.Javascript object>"
            ]
          },
          "metadata": {},
          "output_type": "display_data"
        }
      ],
      "source": [
        "from google.colab import files\n",
        "\n",
        "# files.download('./mypilot.h5') #Linear\n",
        "files.download('./mymempilot2.h5') # Memorial com dois Tubs"
      ]
    },
    {
      "cell_type": "markdown",
      "metadata": {
        "id": "RTfUct6UP5Nk"
      },
      "source": [
        "Google Drive"
      ]
    },
    {
      "cell_type": "code",
      "execution_count": null,
      "metadata": {
        "id": "7Dim4fCpOBo9"
      },
      "outputs": [],
      "source": [
        "# !cp /content/mycar/models/mypilot.h5 /content/drive/My\\ Drive/jetson/{tub_name}/models/mypilot.h5 #Linear\n",
        "!cp /content/mycar/models/mymempilot4.h5 /content/drive/My\\ Drive/jetson/{tub_name}/models/mymempilot4.h5 #Memory com dois Tubs"
      ]
    },
    {
      "cell_type": "markdown",
      "metadata": {
        "id": "hfERkGy821Xy"
      },
      "source": [
        "## Para rodar o modelo no carrinho\n",
        "\n",
        "\n",
        "```bash\n",
        "cd ~/mycar\n",
        "python manage.py drive --model models/mymempilot2.h5 --type=memory\n",
        "```\n"
      ]
    },
    {
      "cell_type": "markdown",
      "metadata": {
        "id": "X93SodzAv9hV"
      },
      "source": [
        "## Bônus - Salient Object Visualization\n",
        "Aqui vamos gerar um vídeo com um indicador para compararmos a orientação dada na hora da direção manual com o obtido pelo modelo treinado. **Somente para modelos lineares e categoricos**."
      ]
    },
    {
      "cell_type": "code",
      "execution_count": null,
      "metadata": {
        "colab": {
          "base_uri": "https://localhost:8080/"
        },
        "id": "4AZvWSeiyqto",
        "outputId": "cc344bc9-c243-4c77-8574-a0a29859bdd2"
      },
      "outputs": [
        {
          "name": "stdout",
          "output_type": "stream",
          "text": [
            "\u001b[33mWARNING: Skipping keras-vis as it is not installed.\u001b[0m\u001b[33m\n",
            "\u001b[0mCollecting git+https://github.com/sctse999/keras-vis\n",
            "  Cloning https://github.com/sctse999/keras-vis to /tmp/pip-req-build-e_0jdm8f\n",
            "  Running command git clone --filter=blob:none --quiet https://github.com/sctse999/keras-vis /tmp/pip-req-build-e_0jdm8f\n",
            "  Resolved https://github.com/sctse999/keras-vis to commit 93e1e803dc0779e25f95b6c1e871d499414e5404\n",
            "  Preparing metadata (setup.py) ... \u001b[?25l\u001b[?25hdone\n",
            "Requirement already satisfied: six in /usr/local/lib/python3.10/dist-packages (from keras-vis==0.5.0) (1.16.0)\n",
            "Requirement already satisfied: scikit-image in /usr/local/lib/python3.10/dist-packages (from keras-vis==0.5.0) (0.19.3)\n",
            "Requirement already satisfied: matplotlib in /usr/local/lib/python3.10/dist-packages (from keras-vis==0.5.0) (3.7.1)\n",
            "Requirement already satisfied: h5py in /usr/local/lib/python3.10/dist-packages (from keras-vis==0.5.0) (3.9.0)\n",
            "Requirement already satisfied: numpy>=1.17.3 in /usr/local/lib/python3.10/dist-packages (from h5py->keras-vis==0.5.0) (1.23.5)\n",
            "Requirement already satisfied: contourpy>=1.0.1 in /usr/local/lib/python3.10/dist-packages (from matplotlib->keras-vis==0.5.0) (1.1.1)\n",
            "Requirement already satisfied: cycler>=0.10 in /usr/local/lib/python3.10/dist-packages (from matplotlib->keras-vis==0.5.0) (0.12.0)\n",
            "Requirement already satisfied: fonttools>=4.22.0 in /usr/local/lib/python3.10/dist-packages (from matplotlib->keras-vis==0.5.0) (4.43.1)\n",
            "Requirement already satisfied: kiwisolver>=1.0.1 in /usr/local/lib/python3.10/dist-packages (from matplotlib->keras-vis==0.5.0) (1.4.5)\n",
            "Requirement already satisfied: packaging>=20.0 in /usr/local/lib/python3.10/dist-packages (from matplotlib->keras-vis==0.5.0) (23.2)\n",
            "Requirement already satisfied: pillow>=6.2.0 in /usr/local/lib/python3.10/dist-packages (from matplotlib->keras-vis==0.5.0) (9.4.0)\n",
            "Requirement already satisfied: pyparsing>=2.3.1 in /usr/local/lib/python3.10/dist-packages (from matplotlib->keras-vis==0.5.0) (3.1.1)\n",
            "Requirement already satisfied: python-dateutil>=2.7 in /usr/local/lib/python3.10/dist-packages (from matplotlib->keras-vis==0.5.0) (2.8.2)\n",
            "Requirement already satisfied: scipy>=1.4.1 in /usr/local/lib/python3.10/dist-packages (from scikit-image->keras-vis==0.5.0) (1.11.3)\n",
            "Requirement already satisfied: networkx>=2.2 in /usr/local/lib/python3.10/dist-packages (from scikit-image->keras-vis==0.5.0) (3.1)\n",
            "Requirement already satisfied: imageio>=2.4.1 in /usr/local/lib/python3.10/dist-packages (from scikit-image->keras-vis==0.5.0) (2.31.5)\n",
            "Requirement already satisfied: tifffile>=2019.7.26 in /usr/local/lib/python3.10/dist-packages (from scikit-image->keras-vis==0.5.0) (2023.9.26)\n",
            "Requirement already satisfied: PyWavelets>=1.1.1 in /usr/local/lib/python3.10/dist-packages (from scikit-image->keras-vis==0.5.0) (1.4.1)\n",
            "Building wheels for collected packages: keras-vis\n",
            "  Building wheel for keras-vis (setup.py) ... \u001b[?25l\u001b[?25hdone\n",
            "  Created wheel for keras-vis: filename=keras_vis-0.5.0-py2.py3-none-any.whl size=30957 sha256=1c80237de1a4ef9a3e607db40ed4fa55cd91dfc0520d44d1946a0aed422b968a\n",
            "  Stored in directory: /tmp/pip-ephem-wheel-cache-cyl521b0/wheels/76/f4/c7/79f07c4e592d76b0adc5dc32b610988e36a56e8d288d286612\n",
            "Successfully built keras-vis\n",
            "Installing collected packages: keras-vis\n",
            "Successfully installed keras-vis-0.5.0\n"
          ]
        }
      ],
      "source": [
        "!pip uninstall keras-vis\n",
        "!pip install git+https://github.com/sctse999/keras-vis"
      ]
    },
    {
      "cell_type": "code",
      "execution_count": null,
      "metadata": {
        "colab": {
          "base_uri": "https://localhost:8080/"
        },
        "id": "1nGatrwZiTEt",
        "outputId": "a6fc5c3e-53ab-4225-bfa6-0da402bd3e8e"
      },
      "outputs": [
        {
          "name": "stdout",
          "output_type": "stream",
          "text": [
            "Requirement already satisfied: imageio-ffmpeg in /usr/local/lib/python3.10/dist-packages (0.4.9)\n",
            "Requirement already satisfied: setuptools in /usr/local/lib/python3.10/dist-packages (from imageio-ffmpeg) (67.7.2)\n"
          ]
        }
      ],
      "source": [
        "!pip install imageio-ffmpeg"
      ]
    },
    {
      "cell_type": "code",
      "execution_count": null,
      "metadata": {
        "colab": {
          "base_uri": "https://localhost:8080/"
        },
        "id": "kKI37gVrv9Q8",
        "outputId": "24b0a572-760f-4ded-ee89-5fd6bc7c7ae1"
      },
      "outputs": [
        {
          "name": "stdout",
          "output_type": "stream",
          "text": [
            "/content/mycar\n",
            "________             ______                   _________              \n",
            "___  __ \\_______________  /___________  __    __  ____/_____ ________\n",
            "__  / / /  __ \\_  __ \\_  //_/  _ \\_  / / /    _  /    _  __ `/_  ___/\n",
            "_  /_/ // /_/ /  / / /  ,<  /  __/  /_/ /     / /___  / /_/ /_  /    \n",
            "/_____/ \\____//_/ /_//_/|_| \\___/_\\__, /      \\____/  \\__,_/ /_/     \n",
            "                                 /____/                              \n",
            "\n",
            "using donkey v5.0.dev3 ...\n",
            "error: XDG_RUNTIME_DIR not set in the environment.\n",
            "ALSA lib confmisc.c:855:(parse_card) cannot find card '0'\n",
            "ALSA lib conf.c:5178:(_snd_config_evaluate) function snd_func_card_inum returned error: No such file or directory\n",
            "ALSA lib confmisc.c:422:(snd_func_concat) error evaluating strings\n",
            "ALSA lib conf.c:5178:(_snd_config_evaluate) function snd_func_concat returned error: No such file or directory\n",
            "ALSA lib confmisc.c:1334:(snd_func_refer) error evaluating name\n",
            "ALSA lib conf.c:5178:(_snd_config_evaluate) function snd_func_refer returned error: No such file or directory\n",
            "ALSA lib conf.c:5701:(snd_config_expand) Evaluate error: No such file or directory\n",
            "ALSA lib pcm.c:2664:(snd_pcm_open_noupdate) Unknown PCM default\n",
            "ALSA lib confmisc.c:855:(parse_card) cannot find card '0'\n",
            "ALSA lib conf.c:5178:(_snd_config_evaluate) function snd_func_card_inum returned error: No such file or directory\n",
            "ALSA lib confmisc.c:422:(snd_func_concat) error evaluating strings\n",
            "ALSA lib conf.c:5178:(_snd_config_evaluate) function snd_func_concat returned error: No such file or directory\n",
            "ALSA lib confmisc.c:1334:(snd_func_refer) error evaluating name\n",
            "ALSA lib conf.c:5178:(_snd_config_evaluate) function snd_func_refer returned error: No such file or directory\n",
            "ALSA lib conf.c:5701:(snd_config_expand) Evaluate error: No such file or directory\n",
            "ALSA lib pcm.c:2664:(snd_pcm_open_noupdate) Unknown PCM default\n",
            "2023-10-10 21:33:20.589913: W tensorflow/compiler/tf2tensorrt/utils/py_utils.cc:38] TF-TRT Warning: Could not find TensorRT\n",
            "INFO:numexpr.utils:NumExpr defaulting to 2 threads.\n",
            "INFO:donkeycar.config:loading config file: ./config.py\n",
            "INFO:donkeycar.config:loading personal config over-rides from myconfig.py\n",
            "INFO:donkeycar.parts.datastore_v2:Found datastore at /content/mycar/data\n",
            "INFO:donkeycar.parts.datastore_v2:Using last catalog /content/mycar/data/catalog_5.catalog\n",
            "INFO:donkeycar.utils:get_model_by_type: model type is: linear\n",
            "2023-10-10 21:33:23.617671: W tensorflow/core/common_runtime/gpu/gpu_bfc_allocator.cc:47] Overriding orig_value setting because the TF_FORCE_GPU_ALLOW_GROWTH environment variable is set. Original config value was 0.\n",
            "INFO:donkeycar.parts.keras:Created KerasLinear with interpreter: KerasInterpreter\n",
            "INFO:donkeycar.parts.keras:Loading model models/mymempilot2.h5\n",
            "INFO:donkeycar.parts.interpreter:Loading model models/mymempilot2.h5\n",
            "####################\n",
            "Visualizing activations on layer: ['n_outputs0', 'n_outputs1']\n",
            "####################\n",
            "WARNING:py.warnings:/usr/local/lib/python3.10/dist-packages/keras/src/engine/training.py:3000: UserWarning: You are saving your model as an HDF5 file via `model.save()`. This file format is considered legacy. We recommend using instead the native Keras format, e.g. `model.save('my_model.keras')`.\n",
            "  saving_api.save_model(\n",
            "\n",
            "WARNING:tensorflow:Compiled the loaded model, but the compiled metrics have yet to be built. `model.compile_metrics` will be empty until you train or evaluate the model.\n",
            "WARNING:tensorflow:No training configuration found in the save file, so the model was *not* compiled. Compile it manually.\n",
            "making movie tub_movie.mp4 from 5298 images\n",
            "Traceback (most recent call last):\n",
            "  File \"/usr/local/bin/donkey\", line 33, in <module>\n",
            "    sys.exit(load_entry_point('donkeycar', 'console_scripts', 'donkey')())\n",
            "  File \"/content/donkeycar/donkeycar/management/base.py\", line 626, in execute_from_command_line\n",
            "    c.run(args[2:])\n",
            "  File \"/content/donkeycar/donkeycar/management/base.py\", line 310, in run\n",
            "    mm.run(args, parser)\n",
            "  File \"/content/donkeycar/donkeycar/management/makemovie.py\", line 80, in run\n",
            "    clip = mpy.VideoClip(self.make_frame, duration=((num_frames - 1) / self.cfg.DRIVE_LOOP_HZ))\n",
            "  File \"/usr/local/lib/python3.10/dist-packages/moviepy/video/VideoClip.py\", line 86, in __init__\n",
            "    self.size = self.get_frame(0).shape[:2][::-1]\n",
            "  File \"<decorator-gen-11>\", line 2, in get_frame\n",
            "  File \"/usr/local/lib/python3.10/dist-packages/moviepy/decorators.py\", line 89, in wrapper\n",
            "    return f(*new_a, **new_kw)\n",
            "  File \"/usr/local/lib/python3.10/dist-packages/moviepy/Clip.py\", line 93, in get_frame\n",
            "    return self.make_frame(t)\n",
            "  File \"/content/donkeycar/donkeycar/management/makemovie.py\", line 252, in make_frame\n",
            "    image = self.draw_salient(image_input)\n",
            "  File \"/content/donkeycar/donkeycar/management/makemovie.py\", line 229, in draw_salient\n",
            "    salient_mask = self.compute_visualisation_mask(norm_img)\n",
            "  File \"/content/donkeycar/donkeycar/management/makemovie.py\", line 195, in compute_visualisation_mask\n",
            "    pred_list = self.sal_model(images, training=False)\n",
            "  File \"/usr/local/lib/python3.10/dist-packages/tensorflow/python/keras/engine/base_layer.py\", line 1028, in __call__\n",
            "    input_spec.assert_input_compatibility(self.input_spec, inputs, self.name)\n",
            "  File \"/usr/local/lib/python3.10/dist-packages/tensorflow/python/keras/engine/input_spec.py\", line 200, in assert_input_compatibility\n",
            "    raise ValueError('Layer ' + layer_name + ' expects ' +\n",
            "ValueError: Layer memory expects 2 input(s), but it received 1 input tensors. Inputs received: [<tf.Variable 'Variable:0' shape=(1, 120, 160, 3) dtype=float32, numpy=\n",
            "array([[[[0.47843137, 0.38039216, 0.54509807],\n",
            "         [0.4392157 , 0.34117648, 0.5058824 ],\n",
            "         [0.4       , 0.29411766, 0.45490196],\n",
            "         ...,\n",
            "         [1.        , 0.8156863 , 0.9647059 ],\n",
            "         [1.        , 0.8235294 , 0.972549  ],\n",
            "         [1.        , 0.827451  , 0.9764706 ]],\n",
            "\n",
            "        [[0.5254902 , 0.42745098, 0.5921569 ],\n",
            "         [0.45882353, 0.36078432, 0.5176471 ],\n",
            "         [0.39215687, 0.28627452, 0.44705883],\n",
            "         ...,\n",
            "         [1.        , 0.80784315, 0.95686275],\n",
            "         [1.        , 0.8156863 , 0.9647059 ],\n",
            "         [1.        , 0.81960785, 0.96862745]],\n",
            "\n",
            "        [[0.5254902 , 0.42745098, 0.58431375],\n",
            "         [0.44313726, 0.34509805, 0.5019608 ],\n",
            "         [0.3647059 , 0.25882354, 0.41960785],\n",
            "         ...,\n",
            "         [0.99607843, 0.8       , 0.9490196 ],\n",
            "         [1.        , 0.8039216 , 0.9529412 ],\n",
            "         [1.        , 0.80784315, 0.95686275]],\n",
            "\n",
            "        ...,\n",
            "\n",
            "        [[0.5686275 , 0.36078432, 0.47058824],\n",
            "         [0.5764706 , 0.36862746, 0.47843137],\n",
            "         [0.5764706 , 0.36862746, 0.47843137],\n",
            "         ...,\n",
            "         [0.4862745 , 0.29803923, 0.38431373],\n",
            "         [0.4862745 , 0.29803923, 0.38431373],\n",
            "         [0.4862745 , 0.29803923, 0.38431373]],\n",
            "\n",
            "        [[0.58431375, 0.3764706 , 0.4862745 ],\n",
            "         [0.57254905, 0.3647059 , 0.4745098 ],\n",
            "         [0.5686275 , 0.36078432, 0.47058824],\n",
            "         ...,\n",
            "         [0.4862745 , 0.29803923, 0.38431373],\n",
            "         [0.4862745 , 0.29803923, 0.38431373],\n",
            "         [0.4862745 , 0.29803923, 0.38431373]],\n",
            "\n",
            "        [[0.59607846, 0.3882353 , 0.49803922],\n",
            "         [0.5686275 , 0.36078432, 0.47058824],\n",
            "         [0.5647059 , 0.35686275, 0.46666667],\n",
            "         ...,\n",
            "         [0.4862745 , 0.29803923, 0.38431373],\n",
            "         [0.4862745 , 0.29803923, 0.38431373],\n",
            "         [0.4862745 , 0.29803923, 0.38431373]]]], dtype=float32)>]\n"
          ]
        }
      ],
      "source": [
        "%cd /content/mycar\n",
        "!donkey makemovie --tub ./data --model models/mypilot.h5 --type linear --salient"
      ]
    },
    {
      "cell_type": "code",
      "execution_count": null,
      "metadata": {
        "colab": {
          "base_uri": "https://localhost:8080/",
          "height": 260
        },
        "id": "IcUrgOq_pePV",
        "outputId": "318bf522-7da9-4d27-dc42-d3334d519bc8"
      },
      "outputs": [
        {
          "name": "stdout",
          "output_type": "stream",
          "text": [
            "/content/mycar\n",
            "total 25M\n",
            "drwxr-xr-x 5 root root 4.0K Sep 27 00:10 .\n",
            "drwxr-xr-x 1 root root 4.0K Sep 26 23:57 ..\n",
            "-rwx------ 1 root root 4.8K Sep 26 23:56 calibrate.py\n",
            "-rw-r--r-- 1 root root  40K Sep 26 23:56 config.py\n",
            "drwxr-xr-x 3 root root 4.0K Sep 26 23:58 data\n",
            "drwxr-xr-x 2 root root 4.0K Sep 26 23:56 logs\n",
            "-rwx------ 1 root root  47K Sep 26 23:56 manage.py\n",
            "drwxr-xr-x 2 root root 4.0K Sep 27 00:05 models\n",
            "-rw-r--r-- 1 root root  42K Sep 26 23:56 myconfig.py\n",
            "-rwx------ 1 root root  728 Sep 26 23:56 train.py\n",
            "-rw-r--r-- 1 root root  25M Sep 27 00:23 tub_movie.mp4\n"
          ]
        },
        {
          "data": {
            "application/javascript": "\n    async function download(id, filename, size) {\n      if (!google.colab.kernel.accessAllowed) {\n        return;\n      }\n      const div = document.createElement('div');\n      const label = document.createElement('label');\n      label.textContent = `Downloading \"${filename}\": `;\n      div.appendChild(label);\n      const progress = document.createElement('progress');\n      progress.max = size;\n      div.appendChild(progress);\n      document.body.appendChild(div);\n\n      const buffers = [];\n      let downloaded = 0;\n\n      const channel = await google.colab.kernel.comms.open(id);\n      // Send a message to notify the kernel that we're ready.\n      channel.send({})\n\n      for await (const message of channel.messages) {\n        // Send a message to notify the kernel that we're ready.\n        channel.send({})\n        if (message.buffers) {\n          for (const buffer of message.buffers) {\n            buffers.push(buffer);\n            downloaded += buffer.byteLength;\n            progress.value = downloaded;\n          }\n        }\n      }\n      const blob = new Blob(buffers, {type: 'application/binary'});\n      const a = document.createElement('a');\n      a.href = window.URL.createObjectURL(blob);\n      a.download = filename;\n      div.appendChild(a);\n      a.click();\n      div.remove();\n    }\n  ",
            "text/plain": [
              "<IPython.core.display.Javascript object>"
            ]
          },
          "metadata": {},
          "output_type": "display_data"
        },
        {
          "data": {
            "application/javascript": "download(\"download_b3617560-04b4-4c28-aa3b-dac7f035ee0c\", \"tub_movie.mp4\", 25537602)",
            "text/plain": [
              "<IPython.core.display.Javascript object>"
            ]
          },
          "metadata": {},
          "output_type": "display_data"
        }
      ],
      "source": [
        "from google.colab import files\n",
        "\n",
        "%cd /content/mycar\n",
        "!ls -ahl\n",
        "files.download('tub_movie.mp4')"
      ]
    }
  ],
  "metadata": {
    "accelerator": "GPU",
    "colab": {
      "provenance": []
    },
    "kernelspec": {
      "display_name": "Python 3",
      "language": "python",
      "name": "python3"
    },
    "language_info": {
      "codemirror_mode": {
        "name": "ipython",
        "version": 3
      },
      "file_extension": ".py",
      "mimetype": "text/x-python",
      "name": "python",
      "nbconvert_exporter": "python",
      "pygments_lexer": "ipython3",
      "version": "3.7.3"
    }
  },
  "nbformat": 4,
  "nbformat_minor": 0
}
